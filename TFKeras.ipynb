{
  "nbformat": 4,
  "nbformat_minor": 0,
  "metadata": {
    "colab": {
      "name": "Untitled2.ipynb",
      "version": "0.3.2",
      "provenance": [],
      "collapsed_sections": [],
      "include_colab_link": true
    },
    "kernelspec": {
      "name": "python3",
      "display_name": "Python 3"
    },
    "accelerator": "GPU"
  },
  "cells": [
    {
      "cell_type": "markdown",
      "metadata": {
        "id": "view-in-github",
        "colab_type": "text"
      },
      "source": [
        "<a href=\"https://colab.research.google.com/github/Sharashchandra/Legos/blob/master/TFKeras.ipynb\" target=\"_parent\"><img src=\"https://colab.research.google.com/assets/colab-badge.svg\" alt=\"Open In Colab\"/></a>"
      ]
    },
    {
      "cell_type": "code",
      "metadata": {
        "id": "tud4Ik9Hjdyj",
        "colab_type": "code",
        "colab": {
          "base_uri": "https://localhost:8080/",
          "height": 538
        },
        "outputId": "0b271b28-0a0a-4b71-aa93-6420192d857b"
      },
      "source": [
        "from tensorflow.python.client import device_lib\n",
        "print(device_lib.list_local_devices())"
      ],
      "execution_count": 38,
      "outputs": [
        {
          "output_type": "stream",
          "text": [
            "[name: \"/device:CPU:0\"\n",
            "device_type: \"CPU\"\n",
            "memory_limit: 268435456\n",
            "locality {\n",
            "}\n",
            "incarnation: 7345596337578543063\n",
            ", name: \"/device:XLA_CPU:0\"\n",
            "device_type: \"XLA_CPU\"\n",
            "memory_limit: 17179869184\n",
            "locality {\n",
            "}\n",
            "incarnation: 2809055526560763777\n",
            "physical_device_desc: \"device: XLA_CPU device\"\n",
            ", name: \"/device:XLA_GPU:0\"\n",
            "device_type: \"XLA_GPU\"\n",
            "memory_limit: 17179869184\n",
            "locality {\n",
            "}\n",
            "incarnation: 9463524970464908326\n",
            "physical_device_desc: \"device: XLA_GPU device\"\n",
            ", name: \"/device:GPU:0\"\n",
            "device_type: \"GPU\"\n",
            "memory_limit: 11326753997\n",
            "locality {\n",
            "  bus_id: 1\n",
            "  links {\n",
            "  }\n",
            "}\n",
            "incarnation: 7568653109941002780\n",
            "physical_device_desc: \"device: 0, name: Tesla K80, pci bus id: 0000:00:04.0, compute capability: 3.7\"\n",
            "]\n"
          ],
          "name": "stdout"
        }
      ]
    },
    {
      "cell_type": "code",
      "metadata": {
        "id": "vs5pfLNJkYMY",
        "colab_type": "code",
        "colab": {}
      },
      "source": [
        "import pickle\n",
        "import numpy as np\n",
        "from tensorflow.keras.models import Sequential\n",
        "from tensorflow.keras.layers import Conv2D, Flatten, Dense, Dropout, MaxPooling2D\n",
        "from tensorflow.keras.utils import to_categorical"
      ],
      "execution_count": 0,
      "outputs": []
    },
    {
      "cell_type": "code",
      "metadata": {
        "id": "Vr1eN4sPkmy_",
        "colab_type": "code",
        "colab": {}
      },
      "source": [
        "file = open('./Legos/X.pickle', 'rb')\n",
        "X = pickle.load(file)\n",
        "file.close()\n",
        "\n",
        "file = open('./Legos/y.pickle', 'rb')\n",
        "y = pickle.load(file)\n",
        "file.close()"
      ],
      "execution_count": 0,
      "outputs": []
    },
    {
      "cell_type": "code",
      "metadata": {
        "id": "6mgYAhV7k1VN",
        "colab_type": "code",
        "colab": {}
      },
      "source": [
        "file = open('./Legos/X_test.pickle', 'rb')\n",
        "X_test = pickle.load(file)\n",
        "file.close()\n",
        "\n",
        "file = open('./Legos/y_test.pickle', 'rb')\n",
        "y_test = pickle.load(file)\n",
        "file.close()"
      ],
      "execution_count": 0,
      "outputs": []
    },
    {
      "cell_type": "code",
      "metadata": {
        "id": "DSOW-6DVmPZy",
        "colab_type": "code",
        "colab": {}
      },
      "source": [
        "y = to_categorical(y)\n",
        "y_test = to_categorical(y_test)"
      ],
      "execution_count": 0,
      "outputs": []
    },
    {
      "cell_type": "code",
      "metadata": {
        "id": "xD-iv7jWk65N",
        "colab_type": "code",
        "colab": {}
      },
      "source": [
        "model = Sequential()"
      ],
      "execution_count": 0,
      "outputs": []
    },
    {
      "cell_type": "code",
      "metadata": {
        "id": "FfNmHJW2k_dP",
        "colab_type": "code",
        "colab": {}
      },
      "source": [
        "model.add(Conv2D(filters=32, kernel_size=(5, 5), input_shape=(64, 64, 1), activation='relu'))\n",
        "model.add(MaxPooling2D(pool_size=(2, 2)))"
      ],
      "execution_count": 0,
      "outputs": []
    },
    {
      "cell_type": "code",
      "metadata": {
        "id": "cYm6FvYQlVkm",
        "colab_type": "code",
        "colab": {}
      },
      "source": [
        "model.add(Conv2D(filters=64, kernel_size=(5, 5), activation='relu'))\n",
        "model.add(MaxPooling2D(pool_size=(2, 2)))"
      ],
      "execution_count": 0,
      "outputs": []
    },
    {
      "cell_type": "code",
      "metadata": {
        "id": "JuwU27BGlkJ-",
        "colab_type": "code",
        "colab": {}
      },
      "source": [
        "model.add(Flatten())"
      ],
      "execution_count": 0,
      "outputs": []
    },
    {
      "cell_type": "code",
      "metadata": {
        "id": "OESwMtdslnbP",
        "colab_type": "code",
        "colab": {}
      },
      "source": [
        "model.add(Dense(units=1024, activation='relu'))\n",
        "model.add(Dropout(0.3))"
      ],
      "execution_count": 0,
      "outputs": []
    },
    {
      "cell_type": "code",
      "metadata": {
        "id": "m-dEK1KZlsGV",
        "colab_type": "code",
        "colab": {}
      },
      "source": [
        "model.add(Dense(units=16, activation='softmax'))"
      ],
      "execution_count": 0,
      "outputs": []
    },
    {
      "cell_type": "code",
      "metadata": {
        "id": "gCCLMPeXmGim",
        "colab_type": "code",
        "colab": {}
      },
      "source": [
        "model.compile(optimizer='adam', loss='categorical_crossentropy', metrics=['accuracy'])"
      ],
      "execution_count": 0,
      "outputs": []
    },
    {
      "cell_type": "code",
      "metadata": {
        "id": "PYI3gmJ4mMvV",
        "colab_type": "code",
        "colab": {
          "base_uri": "https://localhost:8080/",
          "height": 420
        },
        "outputId": "55904dfa-c94c-4d28-f66c-c09309a9f450"
      },
      "source": [
        "model.summary()"
      ],
      "execution_count": 50,
      "outputs": [
        {
          "output_type": "stream",
          "text": [
            "Model: \"sequential_2\"\n",
            "_________________________________________________________________\n",
            "Layer (type)                 Output Shape              Param #   \n",
            "=================================================================\n",
            "conv2d_4 (Conv2D)            (None, 60, 60, 32)        832       \n",
            "_________________________________________________________________\n",
            "max_pooling2d_4 (MaxPooling2 (None, 30, 30, 32)        0         \n",
            "_________________________________________________________________\n",
            "conv2d_5 (Conv2D)            (None, 26, 26, 64)        51264     \n",
            "_________________________________________________________________\n",
            "max_pooling2d_5 (MaxPooling2 (None, 13, 13, 64)        0         \n",
            "_________________________________________________________________\n",
            "flatten_2 (Flatten)          (None, 10816)             0         \n",
            "_________________________________________________________________\n",
            "dense_4 (Dense)              (None, 1024)              11076608  \n",
            "_________________________________________________________________\n",
            "dropout_2 (Dropout)          (None, 1024)              0         \n",
            "_________________________________________________________________\n",
            "dense_5 (Dense)              (None, 16)                16400     \n",
            "=================================================================\n",
            "Total params: 11,145,104\n",
            "Trainable params: 11,145,104\n",
            "Non-trainable params: 0\n",
            "_________________________________________________________________\n"
          ],
          "name": "stdout"
        }
      ]
    },
    {
      "cell_type": "code",
      "metadata": {
        "id": "12qJgCjimN7u",
        "colab_type": "code",
        "colab": {
          "base_uri": "https://localhost:8080/",
          "height": 386
        },
        "outputId": "b2bddd95-853e-4b82-f990-3c410d6a5e71"
      },
      "source": [
        "model.fit(X, y, batch_size=16, epochs=10 ,validation_split=0.1)"
      ],
      "execution_count": 52,
      "outputs": [
        {
          "output_type": "stream",
          "text": [
            "Train on 5741 samples, validate on 638 samples\n",
            "Epoch 1/10\n",
            "5741/5741 [==============================] - 5s 935us/sample - loss: 0.3362 - acc: 0.8896 - val_loss: 0.4146 - val_acc: 0.8699\n",
            "Epoch 2/10\n",
            "5741/5741 [==============================] - 5s 925us/sample - loss: 0.1661 - acc: 0.9385 - val_loss: 0.3869 - val_acc: 0.8871\n",
            "Epoch 3/10\n",
            "5741/5741 [==============================] - 5s 923us/sample - loss: 0.1057 - acc: 0.9599 - val_loss: 0.4099 - val_acc: 0.8652\n",
            "Epoch 4/10\n",
            "5741/5741 [==============================] - 5s 925us/sample - loss: 0.0731 - acc: 0.9716 - val_loss: 0.5425 - val_acc: 0.8699\n",
            "Epoch 5/10\n",
            "5741/5741 [==============================] - 5s 903us/sample - loss: 0.0700 - acc: 0.9753 - val_loss: 0.5108 - val_acc: 0.8668\n",
            "Epoch 6/10\n",
            "5741/5741 [==============================] - 5s 926us/sample - loss: 0.0753 - acc: 0.9749 - val_loss: 0.4602 - val_acc: 0.8683\n",
            "Epoch 7/10\n",
            "5741/5741 [==============================] - 5s 926us/sample - loss: 0.0630 - acc: 0.9775 - val_loss: 0.4650 - val_acc: 0.8730\n",
            "Epoch 8/10\n",
            "5741/5741 [==============================] - 5s 920us/sample - loss: 0.0467 - acc: 0.9831 - val_loss: 0.4861 - val_acc: 0.8840\n",
            "Epoch 9/10\n",
            "5741/5741 [==============================] - 5s 907us/sample - loss: 0.0757 - acc: 0.9747 - val_loss: 0.7477 - val_acc: 0.8417\n",
            "Epoch 10/10\n",
            "5741/5741 [==============================] - 5s 922us/sample - loss: 0.1213 - acc: 0.9619 - val_loss: 0.6067 - val_acc: 0.8589\n"
          ],
          "name": "stdout"
        },
        {
          "output_type": "execute_result",
          "data": {
            "text/plain": [
              "<tensorflow.python.keras.callbacks.History at 0x7f84ac8e3eb8>"
            ]
          },
          "metadata": {
            "tags": []
          },
          "execution_count": 52
        }
      ]
    },
    {
      "cell_type": "code",
      "metadata": {
        "id": "SYw_j6YCorir",
        "colab_type": "code",
        "colab": {
          "base_uri": "https://localhost:8080/",
          "height": 34
        },
        "outputId": "7f5c85e1-34c9-49f8-9edf-b54642531978"
      },
      "source": [
        "results = model.evaluate(X_test, y_test)"
      ],
      "execution_count": 53,
      "outputs": [
        {
          "output_type": "stream",
          "text": [
            "6379/6379 [==============================] - 1s 207us/sample - loss: 0.1044 - acc: 0.9723\n"
          ],
          "name": "stdout"
        }
      ]
    }
  ]
}