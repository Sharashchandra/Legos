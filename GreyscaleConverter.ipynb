{
 "cells": [
  {
   "cell_type": "code",
   "execution_count": 1,
   "metadata": {
    "collapsed": true,
    "deletable": true,
    "editable": true
   },
   "outputs": [],
   "source": [
    "import os\n",
    "import numpy as np\n",
    "import matplotlib.pyplot as plt\n",
    "import cv2\n",
    "%matplotlib inline"
   ]
  },
  {
   "cell_type": "code",
   "execution_count": 8,
   "metadata": {
    "collapsed": true,
    "deletable": true,
    "editable": true
   },
   "outputs": [],
   "source": [
    "input_dir = \"D:/Coding/ANNs/Legos/dataset\"\n",
    "output_dir = \"D:/Coding/ANNs/Legos/dataset_grayscale\"\n",
    "categories = list(os.listdir(os.path.join(input_dir, 'train')))\n",
    "folders = ['train', 'test']"
   ]
  },
  {
   "cell_type": "code",
   "execution_count": 3,
   "metadata": {
    "collapsed": false
   },
   "outputs": [
    {
     "data": {
      "text/plain": [
       "['11214 Bush 3M friction with Cross axle',\n",
       " '18651 Cross Axle 2M with Snap friction',\n",
       " '2357 Brick corner 1x2x2',\n",
       " '3003 Brick 2x2',\n",
       " '3004 Brick 1x2',\n",
       " '3005 Brick 1x1',\n",
       " '3022 Plate 2x2',\n",
       " '3023 Plate 1x2',\n",
       " '3024 Plate 1x1',\n",
       " '3040 Roof Tile 1x2x45deg',\n",
       " '3069 Flat Tile 1x2',\n",
       " '32123 half Bush',\n",
       " '3673 Peg 2M',\n",
       " '3713 Bush for Cross Axle',\n",
       " '3794 Plate 1X2 with 1 Knob',\n",
       " '6632 Technic Lever 3M']"
      ]
     },
     "execution_count": 3,
     "metadata": {},
     "output_type": "execute_result"
    }
   ],
   "source": [
    "categories"
   ]
  },
  {
   "cell_type": "code",
   "execution_count": 9,
   "metadata": {
    "collapsed": false
   },
   "outputs": [
    {
     "name": "stdout",
     "output_type": "stream",
     "text": [
      "Done\n"
     ]
    }
   ],
   "source": [
    "for sets in folders:\n",
    "    for category in categories:\n",
    "        out_path = os.path.join(output_dir, sets)\n",
    "        os.makedirs(os.path.join(out_path, category))\n",
    "print(\"Done\")"
   ]
  },
  {
   "cell_type": "code",
   "execution_count": 10,
   "metadata": {
    "collapsed": false,
    "deletable": true,
    "editable": true
   },
   "outputs": [
    {
     "name": "stdout",
     "output_type": "stream",
     "text": [
      "Reading from D:/Coding/ANNs/Legos/dataset\\train\\11214 Bush 3M friction with Cross axle and saving in D:/Coding/ANNs/Legos/dataset_grayscale\\train\\11214 Bush 3M friction with Cross axle\n",
      "Reading from D:/Coding/ANNs/Legos/dataset\\train\\18651 Cross Axle 2M with Snap friction and saving in D:/Coding/ANNs/Legos/dataset_grayscale\\train\\18651 Cross Axle 2M with Snap friction\n",
      "Reading from D:/Coding/ANNs/Legos/dataset\\train\\2357 Brick corner 1x2x2 and saving in D:/Coding/ANNs/Legos/dataset_grayscale\\train\\2357 Brick corner 1x2x2\n",
      "Reading from D:/Coding/ANNs/Legos/dataset\\train\\3003 Brick 2x2 and saving in D:/Coding/ANNs/Legos/dataset_grayscale\\train\\3003 Brick 2x2\n",
      "Reading from D:/Coding/ANNs/Legos/dataset\\train\\3004 Brick 1x2 and saving in D:/Coding/ANNs/Legos/dataset_grayscale\\train\\3004 Brick 1x2\n",
      "Reading from D:/Coding/ANNs/Legos/dataset\\train\\3005 Brick 1x1 and saving in D:/Coding/ANNs/Legos/dataset_grayscale\\train\\3005 Brick 1x1\n",
      "Reading from D:/Coding/ANNs/Legos/dataset\\train\\3022 Plate 2x2 and saving in D:/Coding/ANNs/Legos/dataset_grayscale\\train\\3022 Plate 2x2\n",
      "Reading from D:/Coding/ANNs/Legos/dataset\\train\\3023 Plate 1x2 and saving in D:/Coding/ANNs/Legos/dataset_grayscale\\train\\3023 Plate 1x2\n",
      "Reading from D:/Coding/ANNs/Legos/dataset\\train\\3024 Plate 1x1 and saving in D:/Coding/ANNs/Legos/dataset_grayscale\\train\\3024 Plate 1x1\n",
      "Reading from D:/Coding/ANNs/Legos/dataset\\train\\3040 Roof Tile 1x2x45deg and saving in D:/Coding/ANNs/Legos/dataset_grayscale\\train\\3040 Roof Tile 1x2x45deg\n",
      "Reading from D:/Coding/ANNs/Legos/dataset\\train\\3069 Flat Tile 1x2 and saving in D:/Coding/ANNs/Legos/dataset_grayscale\\train\\3069 Flat Tile 1x2\n",
      "Reading from D:/Coding/ANNs/Legos/dataset\\train\\32123 half Bush and saving in D:/Coding/ANNs/Legos/dataset_grayscale\\train\\32123 half Bush\n",
      "Reading from D:/Coding/ANNs/Legos/dataset\\train\\3673 Peg 2M and saving in D:/Coding/ANNs/Legos/dataset_grayscale\\train\\3673 Peg 2M\n",
      "Reading from D:/Coding/ANNs/Legos/dataset\\train\\3713 Bush for Cross Axle and saving in D:/Coding/ANNs/Legos/dataset_grayscale\\train\\3713 Bush for Cross Axle\n",
      "Reading from D:/Coding/ANNs/Legos/dataset\\train\\3794 Plate 1X2 with 1 Knob and saving in D:/Coding/ANNs/Legos/dataset_grayscale\\train\\3794 Plate 1X2 with 1 Knob\n",
      "Reading from D:/Coding/ANNs/Legos/dataset\\train\\6632 Technic Lever 3M and saving in D:/Coding/ANNs/Legos/dataset_grayscale\\train\\6632 Technic Lever 3M\n",
      "Reading from D:/Coding/ANNs/Legos/dataset\\test\\11214 Bush 3M friction with Cross axle and saving in D:/Coding/ANNs/Legos/dataset_grayscale\\test\\11214 Bush 3M friction with Cross axle\n",
      "Reading from D:/Coding/ANNs/Legos/dataset\\test\\18651 Cross Axle 2M with Snap friction and saving in D:/Coding/ANNs/Legos/dataset_grayscale\\test\\18651 Cross Axle 2M with Snap friction\n",
      "Reading from D:/Coding/ANNs/Legos/dataset\\test\\2357 Brick corner 1x2x2 and saving in D:/Coding/ANNs/Legos/dataset_grayscale\\test\\2357 Brick corner 1x2x2\n",
      "Reading from D:/Coding/ANNs/Legos/dataset\\test\\3003 Brick 2x2 and saving in D:/Coding/ANNs/Legos/dataset_grayscale\\test\\3003 Brick 2x2\n",
      "Reading from D:/Coding/ANNs/Legos/dataset\\test\\3004 Brick 1x2 and saving in D:/Coding/ANNs/Legos/dataset_grayscale\\test\\3004 Brick 1x2\n",
      "Reading from D:/Coding/ANNs/Legos/dataset\\test\\3005 Brick 1x1 and saving in D:/Coding/ANNs/Legos/dataset_grayscale\\test\\3005 Brick 1x1\n",
      "Reading from D:/Coding/ANNs/Legos/dataset\\test\\3022 Plate 2x2 and saving in D:/Coding/ANNs/Legos/dataset_grayscale\\test\\3022 Plate 2x2\n",
      "Reading from D:/Coding/ANNs/Legos/dataset\\test\\3023 Plate 1x2 and saving in D:/Coding/ANNs/Legos/dataset_grayscale\\test\\3023 Plate 1x2\n",
      "Reading from D:/Coding/ANNs/Legos/dataset\\test\\3024 Plate 1x1 and saving in D:/Coding/ANNs/Legos/dataset_grayscale\\test\\3024 Plate 1x1\n",
      "Reading from D:/Coding/ANNs/Legos/dataset\\test\\3040 Roof Tile 1x2x45deg and saving in D:/Coding/ANNs/Legos/dataset_grayscale\\test\\3040 Roof Tile 1x2x45deg\n",
      "Reading from D:/Coding/ANNs/Legos/dataset\\test\\3069 Flat Tile 1x2 and saving in D:/Coding/ANNs/Legos/dataset_grayscale\\test\\3069 Flat Tile 1x2\n",
      "Reading from D:/Coding/ANNs/Legos/dataset\\test\\32123 half Bush and saving in D:/Coding/ANNs/Legos/dataset_grayscale\\test\\32123 half Bush\n",
      "Reading from D:/Coding/ANNs/Legos/dataset\\test\\3673 Peg 2M and saving in D:/Coding/ANNs/Legos/dataset_grayscale\\test\\3673 Peg 2M\n",
      "Reading from D:/Coding/ANNs/Legos/dataset\\test\\3713 Bush for Cross Axle and saving in D:/Coding/ANNs/Legos/dataset_grayscale\\test\\3713 Bush for Cross Axle\n",
      "Reading from D:/Coding/ANNs/Legos/dataset\\test\\3794 Plate 1X2 with 1 Knob and saving in D:/Coding/ANNs/Legos/dataset_grayscale\\test\\3794 Plate 1X2 with 1 Knob\n",
      "Reading from D:/Coding/ANNs/Legos/dataset\\test\\6632 Technic Lever 3M and saving in D:/Coding/ANNs/Legos/dataset_grayscale\\test\\6632 Technic Lever 3M\n",
      "Completed Successfully\n"
     ]
    }
   ],
   "source": [
    "count = 1\n",
    "for sets in folders:\n",
    "    for category in categories:\n",
    "        inp_path = os.path.join(input_dir, sets)\n",
    "        out_path = os.path.join(output_dir, sets)\n",
    "        inp_path = os.path.join(inp_path, category)\n",
    "        out_path = os.path.join(out_path, category)\n",
    "        print(\"Reading from {} and saving in {}\".format(inp_path, out_path))\n",
    "        for image in os.listdir(inp_path):\n",
    "            img = cv2.imread(os.path.join(inp_path, image), cv2.IMREAD_GRAYSCALE)\n",
    "            if img is not None:\n",
    "                img = cv2.resize(img, (64, 64))\n",
    "                cv2.imwrite(\"{}.png\".format(os.path.join(out_path, str(count))), img)\n",
    "                count += 1\n",
    "            else:\n",
    "                print(image)\n",
    "print(\"Completed Successfully\")"
   ]
  },
  {
   "cell_type": "code",
   "execution_count": 11,
   "metadata": {
    "collapsed": false,
    "deletable": true,
    "editable": true
   },
   "outputs": [
    {
     "name": "stdout",
     "output_type": "stream",
     "text": [
      "D:/Coding/ANNs/Legos/dataset_grayscale\\train\\11214 Bush 3M friction with Cross axle\n",
      "D:/Coding/ANNs/Legos/dataset_grayscale\\train\\18651 Cross Axle 2M with Snap friction\n",
      "D:/Coding/ANNs/Legos/dataset_grayscale\\train\\2357 Brick corner 1x2x2\n",
      "D:/Coding/ANNs/Legos/dataset_grayscale\\train\\3003 Brick 2x2\n",
      "D:/Coding/ANNs/Legos/dataset_grayscale\\train\\3004 Brick 1x2\n",
      "D:/Coding/ANNs/Legos/dataset_grayscale\\train\\3005 Brick 1x1\n",
      "D:/Coding/ANNs/Legos/dataset_grayscale\\train\\3022 Plate 2x2\n",
      "D:/Coding/ANNs/Legos/dataset_grayscale\\train\\3023 Plate 1x2\n",
      "D:/Coding/ANNs/Legos/dataset_grayscale\\train\\3024 Plate 1x1\n",
      "D:/Coding/ANNs/Legos/dataset_grayscale\\train\\3040 Roof Tile 1x2x45deg\n",
      "D:/Coding/ANNs/Legos/dataset_grayscale\\train\\3069 Flat Tile 1x2\n",
      "D:/Coding/ANNs/Legos/dataset_grayscale\\train\\32123 half Bush\n",
      "D:/Coding/ANNs/Legos/dataset_grayscale\\train\\3673 Peg 2M\n",
      "D:/Coding/ANNs/Legos/dataset_grayscale\\train\\3713 Bush for Cross Axle\n",
      "D:/Coding/ANNs/Legos/dataset_grayscale\\train\\3794 Plate 1X2 with 1 Knob\n",
      "D:/Coding/ANNs/Legos/dataset_grayscale\\train\\6632 Technic Lever 3M\n",
      "D:/Coding/ANNs/Legos/dataset_grayscale\\test\\11214 Bush 3M friction with Cross axle\n",
      "D:/Coding/ANNs/Legos/dataset_grayscale\\test\\18651 Cross Axle 2M with Snap friction\n",
      "D:/Coding/ANNs/Legos/dataset_grayscale\\test\\2357 Brick corner 1x2x2\n",
      "D:/Coding/ANNs/Legos/dataset_grayscale\\test\\3003 Brick 2x2\n",
      "D:/Coding/ANNs/Legos/dataset_grayscale\\test\\3004 Brick 1x2\n",
      "D:/Coding/ANNs/Legos/dataset_grayscale\\test\\3005 Brick 1x1\n",
      "D:/Coding/ANNs/Legos/dataset_grayscale\\test\\3022 Plate 2x2\n",
      "D:/Coding/ANNs/Legos/dataset_grayscale\\test\\3023 Plate 1x2\n",
      "D:/Coding/ANNs/Legos/dataset_grayscale\\test\\3024 Plate 1x1\n",
      "D:/Coding/ANNs/Legos/dataset_grayscale\\test\\3040 Roof Tile 1x2x45deg\n",
      "D:/Coding/ANNs/Legos/dataset_grayscale\\test\\3069 Flat Tile 1x2\n",
      "D:/Coding/ANNs/Legos/dataset_grayscale\\test\\32123 half Bush\n",
      "D:/Coding/ANNs/Legos/dataset_grayscale\\test\\3673 Peg 2M\n",
      "D:/Coding/ANNs/Legos/dataset_grayscale\\test\\3713 Bush for Cross Axle\n",
      "D:/Coding/ANNs/Legos/dataset_grayscale\\test\\3794 Plate 1X2 with 1 Knob\n",
      "D:/Coding/ANNs/Legos/dataset_grayscale\\test\\6632 Technic Lever 3M\n"
     ]
    }
   ],
   "source": [
    "for sets in folders:    \n",
    "    for category in categories:\n",
    "        inp = os.path.join(output_dir, sets)\n",
    "        inp = os.path.join(inp, category)\n",
    "        print(inp)\n",
    "        for image in os.listdir(inp):\n",
    "            img = cv2.imread(os.path.join(inp, image), cv2.IMREAD_GRAYSCALE)\n",
    "            if img is None:\n",
    "                print(os.path.join(inp, image))"
   ]
  }
 ],
 "metadata": {
  "kernelspec": {
   "display_name": "Python 3",
   "language": "python",
   "name": "python3"
  },
  "language_info": {
   "codemirror_mode": {
    "name": "ipython",
    "version": 3
   },
   "file_extension": ".py",
   "mimetype": "text/x-python",
   "name": "python",
   "nbconvert_exporter": "python",
   "pygments_lexer": "ipython3",
   "version": "3.5.6"
  }
 },
 "nbformat": 4,
 "nbformat_minor": 2
}
